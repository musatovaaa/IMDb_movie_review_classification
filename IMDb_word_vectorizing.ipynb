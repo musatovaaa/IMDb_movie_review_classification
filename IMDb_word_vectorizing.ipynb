{
 "cells": [
  {
   "cell_type": "code",
   "execution_count": 1,
   "id": "73c9173c-5aef-481f-bf47-8e888862e320",
   "metadata": {},
   "outputs": [],
   "source": [
    "from keras.datasets import imdb\n",
    "from keras import models\n",
    "from keras import layers\n",
    "import numpy as np\n",
    "from keras import optimizers\n",
    "from keras import losses\n",
    "from keras import metrics\n",
    "import matplotlib.pyplot as plt"
   ]
  },
  {
   "cell_type": "code",
   "execution_count": 2,
   "id": "c546e6f4-3339-4481-bafc-125c3ebce8ec",
   "metadata": {},
   "outputs": [],
   "source": [
    "(train_data, train_labels), (test_data, test_labels) = imdb.load_data(num_words=10000)"
   ]
  },
  {
   "cell_type": "code",
   "execution_count": 3,
   "id": "b0e8a47d-bb9d-459a-a452-b5aaf1b9fa30",
   "metadata": {},
   "outputs": [
    {
     "data": {
      "text/plain": [
       "array([   1,   14,   22,   16,   43,  530,  973, 1622, 1385,   65,  458,\n",
       "       4468,   66, 3941,    4,  173,   36,  256,    5,   25,  100,   43,\n",
       "        838,  112,   50,  670,    2,    9,   35,  480,  284,    5,  150,\n",
       "          4,  172,  112,  167,    2,  336,  385,   39,    4,  172, 4536,\n",
       "       1111,   17,  546,   38,   13,  447,    4,  192,   50,   16,    6,\n",
       "        147, 2025,   19,   14,   22,    4, 1920, 4613,  469,    4,   22,\n",
       "         71,   87,   12,   16,   43,  530,   38,   76,   15,   13, 1247,\n",
       "          4,   22,   17,  515,   17,   12,   16,  626,   18,    2,    5,\n",
       "         62,  386,   12,    8,  316,    8,  106,    5,    4, 2223, 5244,\n",
       "         16,  480,   66, 3785,   33,    4,  130,   12,   16,   38,  619,\n",
       "          5,   25,  124,   51,   36,  135,   48,   25, 1415,   33,    6,\n",
       "         22,   12,  215,   28,   77,   52,    5,   14,  407,   16,   82,\n",
       "          2,    8,    4,  107,  117, 5952,   15,  256,    4,    2,    7,\n",
       "       3766,    5,  723,   36,   71,   43,  530,  476,   26,  400,  317,\n",
       "         46,    7,    4,    2, 1029,   13,  104,   88,    4,  381,   15,\n",
       "        297,   98,   32, 2071,   56,   26,  141,    6,  194, 7486,   18,\n",
       "          4,  226,   22,   21,  134,  476,   26,  480,    5,  144,   30,\n",
       "       5535,   18,   51,   36,   28,  224,   92,   25,  104,    4,  226,\n",
       "         65,   16,   38, 1334,   88,   12,   16,  283,    5,   16, 4472,\n",
       "        113,  103,   32,   15,   16, 5345,   19,  178,   32])"
      ]
     },
     "execution_count": 3,
     "metadata": {},
     "output_type": "execute_result"
    }
   ],
   "source": [
    "np.array(train_data[0])   # example of movie review"
   ]
  },
  {
   "cell_type": "markdown",
   "id": "a56bc124-fec5-4616-bcb4-8e08ef18d8ec",
   "metadata": {},
   "source": [
    "-------------------"
   ]
  },
  {
   "cell_type": "markdown",
   "id": "a9655733-96b7-45f4-ab2e-7e24ed3beae8",
   "metadata": {},
   "source": [
    "example of one decoded review (will not be used for training)"
   ]
  },
  {
   "cell_type": "code",
   "execution_count": 4,
   "id": "55c15a9a-2444-468d-93f0-5942d17ab570",
   "metadata": {},
   "outputs": [],
   "source": [
    "word_index = imdb.get_word_index()   # a dictionary mapping words to an integer index\n",
    "reverse_word_index = dict([(value, key) for (key, value) in word_index.items()])"
   ]
  },
  {
   "cell_type": "code",
   "execution_count": 5,
   "id": "36c951bd-c3d7-4738-aa08-eb82bdd3f869",
   "metadata": {},
   "outputs": [],
   "source": [
    "\n",
    "decoded_review = ' '.join([reverse_word_index.get(i - 3, '?') for i in train_data[0]])\n",
    "#Decodes the review from numbers to corresponding words\n",
    "# the indices 0,1,2 are reserved for “padding,” “start of sequence,” and “unknown”"
   ]
  },
  {
   "cell_type": "code",
   "execution_count": 6,
   "id": "3c2ca2a2-75fb-4ee5-bcd1-6071c789324e",
   "metadata": {},
   "outputs": [
    {
     "data": {
      "text/plain": [
       "\"? this film was just brilliant casting location scenery story direction everyone's really suited the part they played and you could just imagine being there robert ? is an amazing actor and now the same being director ? father came from the same scottish island as myself so i loved the fact there was a real connection with this film the witty remarks throughout the film were great it was just brilliant so much that i bought the film as soon as it was released for ? and would recommend it to everyone to watch and the fly fishing was amazing really cried at the end it was so sad and you know what they say if you cry at a film it must have been good and this definitely was also ? to the two little boy's that played the ? of norman and paul they were just brilliant children are often left out of the ? list i think because the stars that play them all grown up are such a big profile for the whole film but these children are amazing and should be praised for what they have done don't you think the whole story was so lovely because it was true and was someone's life after all that was shared with us all\""
      ]
     },
     "execution_count": 6,
     "metadata": {},
     "output_type": "execute_result"
    }
   ],
   "source": [
    "decoded_review"
   ]
  },
  {
   "cell_type": "markdown",
   "id": "0de9cedf-fa4d-42f7-bfa0-0c9a50fe41b1",
   "metadata": {},
   "source": [
    "-------------------"
   ]
  },
  {
   "cell_type": "code",
   "execution_count": 7,
   "id": "074162af-9126-4d5a-bb84-fafdfc05bc82",
   "metadata": {},
   "outputs": [],
   "source": [
    "# encoding sequences of integers numbers into a binary matrix\n",
    "def vectorize_sequences(sequences, dimension=10000): # Создание матрицы с фор-мой (len(sequences), dimension)\n",
    "    results = np.zeros((len(sequences), dimension))\n",
    "    for i, sequence in enumerate(sequences):\n",
    "        results[i, sequence] = 1.   # Запись единицы в элемент с данным индексом\n",
    "    return results\n",
    "\n",
    "#for each review an array of 10.000 length is created, and if there is a word under number 5, then 1 is placed in the 5th place, other places are 0\n",
    "# and there are as many arrays as the number of reviews"
   ]
  },
  {
   "cell_type": "code",
   "execution_count": 8,
   "id": "df483434-1a83-47f3-8201-aa0fd79c033c",
   "metadata": {},
   "outputs": [],
   "source": [
    "# encoding x\n",
    "\n",
    "x_train = vectorize_sequences(train_data)\n",
    "x_test = vectorize_sequences(test_data)"
   ]
  },
  {
   "cell_type": "code",
   "execution_count": 9,
   "id": "7d54bb76-f80c-4365-95d1-59071ecd117f",
   "metadata": {},
   "outputs": [],
   "source": [
    "# encoding y\n",
    "\n",
    "y_train = np.asarray(train_labels).astype('float32')\n",
    "y_test = np.asarray(test_labels).astype('float32')"
   ]
  },
  {
   "cell_type": "markdown",
   "id": "b9e721fd-3428-4c24-9c12-1b407d0bf966",
   "metadata": {},
   "source": [
    "-------------------------"
   ]
  },
  {
   "cell_type": "markdown",
   "id": "4d1745e6-5de1-440e-b5c1-c65bc700f2ce",
   "metadata": {},
   "source": [
    "creating model"
   ]
  },
  {
   "cell_type": "code",
   "execution_count": 10,
   "id": "21e0d9d3-1089-420b-83de-99d937e7b796",
   "metadata": {},
   "outputs": [],
   "source": [
    "model = models.Sequential()\n",
    "model.add(layers.Dense(32, activation='relu', input_shape=(10000,)))\n",
    "model.add(layers.Dense(16, activation='relu'))\n",
    "model.add(layers.Dense(1, activation='sigmoid'))"
   ]
  },
  {
   "cell_type": "code",
   "execution_count": 11,
   "id": "ba95c072-2353-440b-9fd3-742dc9220fde",
   "metadata": {},
   "outputs": [],
   "source": [
    "model.compile(optimizer='rmsprop',loss='binary_crossentropy',metrics=['accuracy'])"
   ]
  },
  {
   "cell_type": "code",
   "execution_count": 12,
   "id": "11973401-361f-40eb-bc2a-bac8f29c6496",
   "metadata": {},
   "outputs": [
    {
     "name": "stdout",
     "output_type": "stream",
     "text": [
      "Model: \"sequential\"\n",
      "_________________________________________________________________\n",
      " Layer (type)                Output Shape              Param #   \n",
      "=================================================================\n",
      " dense (Dense)               (None, 32)                320032    \n",
      "                                                                 \n",
      " dense_1 (Dense)             (None, 16)                528       \n",
      "                                                                 \n",
      " dense_2 (Dense)             (None, 1)                 17        \n",
      "                                                                 \n",
      "=================================================================\n",
      "Total params: 320,577\n",
      "Trainable params: 320,577\n",
      "Non-trainable params: 0\n",
      "_________________________________________________________________\n"
     ]
    }
   ],
   "source": [
    "model.summary()"
   ]
  },
  {
   "cell_type": "raw",
   "id": "f9998a9b-01a2-4a33-bbfd-03e633de59cc",
   "metadata": {},
   "source": [
    "model.compile(optimizer=optimizers.RMSprop(lr=0.001),loss='binary_crossentropy',metrics=['accuracy'])"
   ]
  },
  {
   "cell_type": "raw",
   "id": "c831ac0b-7d0c-40bc-bc3d-af95534a19ee",
   "metadata": {},
   "source": [
    "model.compile(optimizer=optimizers.RMSprop(lr=0.001),loss=losses.binary_crossentropy,metrics=[metrics.binary_accuracy])"
   ]
  },
  {
   "cell_type": "code",
   "execution_count": 13,
   "id": "07763bec-744c-4b73-9dd9-a92ee63a4d1c",
   "metadata": {},
   "outputs": [],
   "source": [
    "x_val = x_train[:10000]\n",
    "partial_x_train = x_train[10000:]\n",
    "y_val = y_train[:10000]\n",
    "partial_y_train = y_train[10000:]"
   ]
  },
  {
   "cell_type": "code",
   "execution_count": 14,
   "id": "6fda0adf-bba0-4dc3-9572-aaaf06ed66f4",
   "metadata": {},
   "outputs": [],
   "source": [
    "model.compile(optimizer='rmsprop',loss='binary_crossentropy',metrics=['acc'])"
   ]
  },
  {
   "cell_type": "code",
   "execution_count": 15,
   "id": "512ed715-0469-45a2-a466-b5be7d76f53f",
   "metadata": {},
   "outputs": [
    {
     "name": "stdout",
     "output_type": "stream",
     "text": [
      "Epoch 1/10\n",
      "30/30 [==============================] - 4s 105ms/step - loss: 0.5251 - acc: 0.7614 - val_loss: 0.3853 - val_acc: 0.8669\n",
      "Epoch 2/10\n",
      "30/30 [==============================] - 1s 43ms/step - loss: 0.3195 - acc: 0.8881 - val_loss: 0.3193 - val_acc: 0.8713\n",
      "Epoch 3/10\n",
      "30/30 [==============================] - 1s 41ms/step - loss: 0.2337 - acc: 0.9187 - val_loss: 0.2962 - val_acc: 0.8806\n",
      "Epoch 4/10\n",
      "30/30 [==============================] - 1s 26ms/step - loss: 0.1910 - acc: 0.9335 - val_loss: 0.2836 - val_acc: 0.8863\n",
      "Epoch 5/10\n",
      "30/30 [==============================] - 1s 25ms/step - loss: 0.1629 - acc: 0.9432 - val_loss: 0.2837 - val_acc: 0.8859\n",
      "Epoch 6/10\n",
      "30/30 [==============================] - 1s 25ms/step - loss: 0.1409 - acc: 0.9515 - val_loss: 0.3127 - val_acc: 0.8819\n",
      "Epoch 7/10\n",
      "30/30 [==============================] - 1s 28ms/step - loss: 0.1197 - acc: 0.9607 - val_loss: 0.3118 - val_acc: 0.8787\n",
      "Epoch 8/10\n",
      "30/30 [==============================] - 1s 28ms/step - loss: 0.1016 - acc: 0.9685 - val_loss: 0.3601 - val_acc: 0.8688\n",
      "Epoch 9/10\n",
      "30/30 [==============================] - 1s 25ms/step - loss: 0.0923 - acc: 0.9703 - val_loss: 0.3357 - val_acc: 0.8793\n",
      "Epoch 10/10\n",
      "30/30 [==============================] - 1s 24ms/step - loss: 0.0788 - acc: 0.9768 - val_loss: 0.3535 - val_acc: 0.8804\n"
     ]
    }
   ],
   "source": [
    "history = model.fit(partial_x_train, partial_y_train,epochs=10,batch_size=512,validation_data=(x_val, y_val))"
   ]
  },
  {
   "cell_type": "code",
   "execution_count": 16,
   "id": "57590a85-5cc8-497a-887c-3a4a8bd0c89f",
   "metadata": {},
   "outputs": [
    {
     "name": "stdout",
     "output_type": "stream",
     "text": [
      "782/782 [==============================] - 2s 3ms/step - loss: 0.3802 - acc: 0.8700\n"
     ]
    },
    {
     "data": {
      "text/plain": [
       "[0.3801785409450531, 0.8700000047683716]"
      ]
     },
     "execution_count": 16,
     "metadata": {},
     "output_type": "execute_result"
    }
   ],
   "source": [
    "model.evaluate(x_test, y_test)"
   ]
  },
  {
   "cell_type": "markdown",
   "id": "b66154cc-9188-43d0-8da8-db871d95d190",
   "metadata": {},
   "source": [
    "------------------"
   ]
  },
  {
   "cell_type": "markdown",
   "id": "8898d86c-be0c-45f4-8583-ccc4fda8b55f",
   "metadata": {},
   "source": [
    "building graphs of losses at the stages of training and verification"
   ]
  },
  {
   "cell_type": "code",
   "execution_count": 17,
   "id": "d8b31b9a-e484-4a5f-89ba-b742261ecbef",
   "metadata": {},
   "outputs": [],
   "source": [
    "history_dict = history.history"
   ]
  },
  {
   "cell_type": "code",
   "execution_count": 18,
   "id": "6deff8e0-fbb6-4b35-8186-0cdec77bc7f9",
   "metadata": {},
   "outputs": [
    {
     "data": {
      "text/plain": [
       "dict_keys(['loss', 'acc', 'val_loss', 'val_acc'])"
      ]
     },
     "execution_count": 18,
     "metadata": {},
     "output_type": "execute_result"
    }
   ],
   "source": [
    "history_dict.keys()"
   ]
  },
  {
   "cell_type": "code",
   "execution_count": 19,
   "id": "dbcf7ecd-fc1e-4563-8fdd-7bd0c402ae54",
   "metadata": {},
   "outputs": [],
   "source": [
    "loss_values = history_dict['loss']\n",
    "val_loss_values = history_dict['val_loss']\n",
    "acc = history_dict['acc']\n",
    "val_acc = history_dict['val_acc']"
   ]
  },
  {
   "cell_type": "code",
   "execution_count": 20,
   "id": "4d277441-6721-4ce1-9811-e390ee161df8",
   "metadata": {},
   "outputs": [],
   "source": [
    "epochs = range(1, len(acc) + 1)"
   ]
  },
  {
   "cell_type": "code",
   "execution_count": 21,
   "id": "9044f7f3-e751-43ce-91db-eb86425d2f1b",
   "metadata": {},
   "outputs": [
    {
     "data": {
      "image/png": "[encoded data removed]",
      "text/plain": [
       "<Figure size 640x480 with 1 Axes>"
      ]
     },
     "metadata": {},
     "output_type": "display_data"
    }
   ],
   "source": [
    "plt.plot(epochs, loss_values, 'bo', label='Training loss') \n",
    "plt.plot(epochs, val_loss_values, 'b', label='Validation loss') \n",
    "plt.title('Training and validation loss')\n",
    "plt.xlabel('Epochs')\n",
    "plt.ylabel('Loss')\n",
    "plt.legend()\n",
    "plt.show()"
   ]
  },
  {
   "cell_type": "raw",
   "id": "a6376be8-8582-4490-a229-85c15ab2ef51",
   "metadata": {},
   "source": [
    "Формирование графиков точности на этапах обучения и проверки"
   ]
  },
  {
   "cell_type": "code",
   "execution_count": 22,
   "id": "50618223-f61c-433d-a7a0-51f3e3b7dc4e",
   "metadata": {},
   "outputs": [
    {
     "data": {
      "image/png": "[encoded data removed]",
      "text/plain": [
       "<Figure size 640x480 with 1 Axes>"
      ]
     },
     "metadata": {},
     "output_type": "display_data"
    }
   ],
   "source": [
    "plt.clf() #Очистить рисунок\n",
    "acc_values = history_dict['acc']\n",
    "val_acc_values = history_dict['val_acc']\n",
    "plt.plot(epochs, acc, 'bo', label='Training acc')\n",
    "plt.plot(epochs, val_acc, 'b', label='Validation acc')\n",
    "plt.title('Training and validation accuracy')\n",
    "plt.xlabel('Epochs')\n",
    "plt.ylabel('Accuracy')\n",
    "plt.legend()\n",
    "plt.show()"
   ]
  },
  {
   "cell_type": "markdown",
   "id": "8db741c4-5ef9-43a0-8f70-4958c438d70d",
   "metadata": {},
   "source": [
    "---------------------"
   ]
  },
  {
   "cell_type": "markdown",
   "id": "20f62767-9472-4396-b596-613bf19c7772",
   "metadata": {},
   "source": [
    "predicting"
   ]
  },
  {
   "cell_type": "code",
   "execution_count": 23,
   "id": "66f092c4-ddeb-4e99-8926-0f09c56e747d",
   "metadata": {},
   "outputs": [
    {
     "name": "stdout",
     "output_type": "stream",
     "text": [
      "782/782 [==============================] - 2s 2ms/step\n"
     ]
    }
   ],
   "source": [
    "predicted_test = model.predict(x_test)"
   ]
  },
  {
   "cell_type": "code",
   "execution_count": 24,
   "id": "cb48c3f0-a3c3-42cf-9ed0-dfc36f8662ea",
   "metadata": {},
   "outputs": [
    {
     "data": {
      "text/plain": [
       "array([[0.11434013],\n",
       "       [0.99996525],\n",
       "       [0.9196085 ],\n",
       "       ...,\n",
       "       [0.02901582],\n",
       "       [0.04289597],\n",
       "       [0.7984695 ]], dtype=float32)"
      ]
     },
     "execution_count": 24,
     "metadata": {},
     "output_type": "execute_result"
    }
   ],
   "source": [
    "predicted_test"
   ]
  },
  {
   "cell_type": "code",
   "execution_count": 25,
   "id": "6f6ffcdb-4efe-412b-b35b-941f71552001",
   "metadata": {},
   "outputs": [],
   "source": [
    "import pandas as pd"
   ]
  },
  {
   "cell_type": "code",
   "execution_count": 26,
   "id": "cd1a1cbb-f42f-4fe4-9ec1-c23f443b1514",
   "metadata": {},
   "outputs": [],
   "source": [
    "a = pd.DataFrame(y_test,columns=['test_real'])"
   ]
  },
  {
   "cell_type": "code",
   "execution_count": 27,
   "id": "16b22078-747e-4c29-b40b-c4c90cc76bbe",
   "metadata": {},
   "outputs": [],
   "source": [
    "a['test_predicted'] = pd.DataFrame(predicted_test)\n",
    "a['test_predicted_binary'] = pd.Series(map(lambda q: 0 if q<0.5 else 1,a['test_predicted']))"
   ]
  },
  {
   "cell_type": "code",
   "execution_count": 29,
   "id": "5c09104a-f2c2-4529-9391-e931541572e5",
   "metadata": {},
   "outputs": [
    {
     "data": {
      "text/html": [
       "<div>\n",
       "<style scoped>\n",
       "    .dataframe tbody tr th:only-of-type {\n",
       "        vertical-align: middle;\n",
       "    }\n",
       "\n",
       "    .dataframe tbody tr th {\n",
       "        vertical-align: top;\n",
       "    }\n",
       "\n",
       "    .dataframe thead th {\n",
       "        text-align: right;\n",
       "    }\n",
       "</style>\n",
       "<table border=\"1\" class=\"dataframe\">\n",
       "  <thead>\n",
       "    <tr style=\"text-align: right;\">\n",
       "      <th></th>\n",
       "      <th>test_real</th>\n",
       "      <th>test_predicted</th>\n",
       "      <th>test_predicted_binary</th>\n",
       "    </tr>\n",
       "  </thead>\n",
       "  <tbody>\n",
       "    <tr>\n",
       "      <th>0</th>\n",
       "      <td>0.0</td>\n",
       "      <td>0.114340</td>\n",
       "      <td>0</td>\n",
       "    </tr>\n",
       "    <tr>\n",
       "      <th>1</th>\n",
       "      <td>1.0</td>\n",
       "      <td>0.999965</td>\n",
       "      <td>1</td>\n",
       "    </tr>\n",
       "    <tr>\n",
       "      <th>2</th>\n",
       "      <td>1.0</td>\n",
       "      <td>0.919608</td>\n",
       "      <td>1</td>\n",
       "    </tr>\n",
       "    <tr>\n",
       "      <th>3</th>\n",
       "      <td>0.0</td>\n",
       "      <td>0.873496</td>\n",
       "      <td>1</td>\n",
       "    </tr>\n",
       "    <tr>\n",
       "      <th>4</th>\n",
       "      <td>1.0</td>\n",
       "      <td>0.959198</td>\n",
       "      <td>1</td>\n",
       "    </tr>\n",
       "    <tr>\n",
       "      <th>...</th>\n",
       "      <td>...</td>\n",
       "      <td>...</td>\n",
       "      <td>...</td>\n",
       "    </tr>\n",
       "    <tr>\n",
       "      <th>24995</th>\n",
       "      <td>1.0</td>\n",
       "      <td>0.999997</td>\n",
       "      <td>1</td>\n",
       "    </tr>\n",
       "    <tr>\n",
       "      <th>24996</th>\n",
       "      <td>1.0</td>\n",
       "      <td>0.650550</td>\n",
       "      <td>1</td>\n",
       "    </tr>\n",
       "    <tr>\n",
       "      <th>24997</th>\n",
       "      <td>0.0</td>\n",
       "      <td>0.029016</td>\n",
       "      <td>0</td>\n",
       "    </tr>\n",
       "    <tr>\n",
       "      <th>24998</th>\n",
       "      <td>0.0</td>\n",
       "      <td>0.042896</td>\n",
       "      <td>0</td>\n",
       "    </tr>\n",
       "    <tr>\n",
       "      <th>24999</th>\n",
       "      <td>0.0</td>\n",
       "      <td>0.798469</td>\n",
       "      <td>1</td>\n",
       "    </tr>\n",
       "  </tbody>\n",
       "</table>\n",
       "<p>25000 rows × 3 columns</p>\n",
       "</div>"
      ],
      "text/plain": [
       "       test_real  test_predicted  test_predicted_binary\n",
       "0            0.0        0.114340                      0\n",
       "1            1.0        0.999965                      1\n",
       "2            1.0        0.919608                      1\n",
       "3            0.0        0.873496                      1\n",
       "4            1.0        0.959198                      1\n",
       "...          ...             ...                    ...\n",
       "24995        1.0        0.999997                      1\n",
       "24996        1.0        0.650550                      1\n",
       "24997        0.0        0.029016                      0\n",
       "24998        0.0        0.042896                      0\n",
       "24999        0.0        0.798469                      1\n",
       "\n",
       "[25000 rows x 3 columns]"
      ]
     },
     "execution_count": 29,
     "metadata": {},
     "output_type": "execute_result"
    }
   ],
   "source": [
    "a"
   ]
  },
  {
   "cell_type": "code",
   "execution_count": 30,
   "id": "1353acd3-455d-4f64-abe3-c0c1fb188b73",
   "metadata": {},
   "outputs": [
    {
     "data": {
      "text/plain": [
       "(array([False,  True]), array([ 3250, 21750], dtype=int64))"
      ]
     },
     "execution_count": 30,
     "metadata": {},
     "output_type": "execute_result"
    }
   ],
   "source": [
    "np.unique(np.array(a['test_real']==a['test_predicted_binary']), return_counts=True) # 3250 misprediction and 21750 correct predictions"
   ]
  },
  {
   "cell_type": "code",
   "execution_count": null,
   "id": "b2f1934d-f36f-4f86-8cf9-c99befab919c",
   "metadata": {},
   "outputs": [],
   "source": []
  }
 ],
 "metadata": {
  "kernelspec": {
   "display_name": "Python 3 (ipykernel)",
   "language": "python",
   "name": "python3"
  },
  "language_info": {
   "codemirror_mode": {
    "name": "ipython",
    "version": 3
   },
   "file_extension": ".py",
   "mimetype": "text/x-python",
   "name": "python",
   "nbconvert_exporter": "python",
   "pygments_lexer": "ipython3",
   "version": "3.10.9"
  }
 },
 "nbformat": 4,
 "nbformat_minor": 5
}
